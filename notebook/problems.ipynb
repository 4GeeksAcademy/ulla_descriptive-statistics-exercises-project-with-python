{
    "cells": [
        {
            "cell_type": "markdown",
            "id": "ac622319",
            "metadata": {},
            "source": [
                "# Descriptive statistics problems"
            ]
        },
        {
            "cell_type": "markdown",
            "id": "5e0ab0d5",
            "metadata": {},
            "source": [
                "### Exercise 1\n",
                "\n",
                "We will use NumPy to obtain information to describe statistically.\n",
                "\n",
                "- Generate an array of 100 elements following a normal distribution.\n",
                "- Generate an array of 100 elements following a chi-square distribution with 3 degrees of freedom.\n",
                "- Calculate the main metrics and statistical measures that best describe the two vectors."
            ]
        },
        {
            "cell_type": "code",
            "execution_count": 11,
            "id": "34720ab6",
            "metadata": {},
            "outputs": [
                {
                    "name": "stdout",
                    "output_type": "stream",
                    "text": [
                        "\n",
                        "Statistics for Normal Distribution:\n",
                        "Mean: -0.0009\n",
                        "Median: 0.0071\n",
                        "Variance: 1.1546\n",
                        "Standard Deviation: 1.0745\n",
                        "Min: -2.9953 | Max: 2.3263\n",
                        "25th Percentile: -0.6271\n",
                        "50th Percentile (Median): 0.0071\n",
                        "75th Percentile: 0.8004\n",
                        "\n",
                        "Statistics for Chi-Square Distribution:\n",
                        "Mean: 2.9358\n",
                        "Median: 2.3907\n",
                        "Variance: 5.2861\n",
                        "Standard Deviation: 2.2992\n",
                        "Min: 0.0537 | Max: 11.9365\n",
                        "25th Percentile: 1.1398\n",
                        "50th Percentile (Median): 2.3907\n",
                        "75th Percentile: 4.2409\n"
                    ]
                }
            ],
            "source": [
                "# TODO\n",
                "import numpy as np\n",
                "\n",
                "#Generate an array of 100 elements following a normal distribution.\n",
                "normal_dist = np.random.normal(loc=0, scale=1, size=100)  # Normal distribution\n",
                "chi_square_dist = np.random.chisquare(df=3, size=100)  # Chi-square distribution (df=3)\n",
                "\n",
                "# Generate an array of 100 elements following a chi-square distribution with 3 degrees of freedom.\n",
                "def describe_data(data, name):\n",
                "    print(f\"\\nStatistics for {name}:\")\n",
                "    print(f\"Mean: {np.mean(data):.4f}\")\n",
                "    print(f\"Median: {np.median(data):.4f}\")\n",
                "    print(f\"Variance: {np.var(data):.4f}\")\n",
                "    print(f\"Standard Deviation: {np.std(data):.4f}\")\n",
                "    print(f\"Min: {np.min(data):.4f} | Max: {np.max(data):.4f}\")\n",
                "    print(f\"25th Percentile: {np.percentile(data, 25):.4f}\")\n",
                "    print(f\"50th Percentile (Median): {np.percentile(data, 50):.4f}\")\n",
                "    print(f\"75th Percentile: {np.percentile(data, 75):.4f}\")\n",
                "\n",
                "# Calculate the main metrics and statistical measures that best describe the two vectors.\n",
                "describe_data(normal_dist, \"Normal Distribution\")\n",
                "describe_data(chi_square_dist, \"Chi-Square Distribution\")\n",
                "\n"
            ]
        },
        {
            "cell_type": "markdown",
            "id": "46c70c3d",
            "metadata": {},
            "source": [
                "### Exercise 2\n",
                "\n",
                "Write a Python program to calculate the standard deviation of the following data:\n",
                "\n",
                "```py\n",
                "data = [4, 2, 5, 8, 6]\n",
                "```"
            ]
        },
        {
            "cell_type": "code",
            "execution_count": 6,
            "id": "d590308e",
            "metadata": {},
            "outputs": [
                {
                    "name": "stdout",
                    "output_type": "stream",
                    "text": [
                        "Standard Deviation: 2.00\n"
                    ]
                }
            ],
            "source": [
                "# TODO\n",
                "import numpy as np\n",
                "\n",
                "data = [4, 2, 5, 8, 6]\n",
                "std_dev = np.std(data, ddof=0)  \n",
                "print(f\"Standard Deviation: {std_dev:.2f}\")\n",
                "\n",
                "\n"
            ]
        }
    ],
    "metadata": {
        "kernelspec": {
            "display_name": "Python 3",
            "language": "python",
            "name": "python3"
        },
        "language_info": {
            "codemirror_mode": {
                "name": "ipython",
                "version": 3
            },
            "file_extension": ".py",
            "mimetype": "text/x-python",
            "name": "python",
            "nbconvert_exporter": "python",
            "pygments_lexer": "ipython3",
            "version": "3.11.4"
        }
    },
    "nbformat": 4,
    "nbformat_minor": 5
}
